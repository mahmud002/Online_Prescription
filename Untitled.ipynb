{
 "cells": [
  {
   "cell_type": "code",
   "execution_count": 174,
   "id": "d8fcd6b8",
   "metadata": {},
   "outputs": [],
   "source": [
    "#import time\n",
    "#pip install PyAutoGUI"
   ]
  },
  {
   "cell_type": "code",
   "execution_count": 28,
   "id": "cfe1cd88",
   "metadata": {},
   "outputs": [
    {
     "name": "stdout",
     "output_type": "stream",
     "text": [
      "Python 3.8.8\n",
      "pip 21.0.1 from C:\\Users\\Mahmud\\anaconda3\\lib\\site-packages\\pip (python 3.8)\n",
      "\n"
     ]
    }
   ],
   "source": [
    "#!pip install gensim==3.8.3\n",
    "!python --version\n",
    "!pip -V\n"
   ]
  },
  {
   "cell_type": "code",
   "execution_count": 3,
   "id": "65999469",
   "metadata": {},
   "outputs": [],
   "source": [
    "from gensim.summarization.summarizer import summarize\n",
    "from gensim.summarization import keywords\n"
   ]
  },
  {
   "cell_type": "code",
   "execution_count": 2,
   "id": "266d0f2b",
   "metadata": {},
   "outputs": [],
   "source": [
    "text1 = \"I am looking for a book to read that is absolutely magical (does not need to have magic in it, more the feelings it sparks) something that will grip me from the very beginning and make me feel as though as I am living the story myself. Bonus if it has the ability to make me laugh and cry. Basically just looking for an absolutely captivating book that will make me read way past when I should have gone to bed.\"\n",
    "text2 = \"Any good fantasy books that people are currently reading and enjoying right now???\"\n",
    "text3 = \"How many of you go into a library or bookshop and select whatever looks good in the moment? This is the way I used to read but now find myself mostly reading books from BOTM or popular books. I feel like I’m missing out on hidden treasures.\"\n",
    "text4 = \"Hi. So i was younger when i read this. I dont know the title the author or anything. I feel as if i read it online or maybe bought the book from goodwill. I didnt get to finish the book. It was a thriller i believe. Key words stalking, following, thriller maybeAbout a woman who single. She runs into a man in the city. Met him on a train or train station or bus. The man then stalks her or wont leave her alone. She invites him back to her house, he puts something bloody, like a bag with an animals head or something inside her purse or bag. She finds it and screams and it falls to the floor.\"\n",
    "text5 = \"Book recommendation please, So my grandma got very ill and passed away last week. It’s been such a rough couple of months and I wasn’t able to focus on any books.\""
   ]
  },
  {
   "cell_type": "code",
   "execution_count": 31,
   "id": "fbe9e830",
   "metadata": {},
   "outputs": [],
   "source": [
    "#print(summarize(text1, ratio=0.5))\n",
    "#print(summarize(text1, split=True, ratio=0.5))"
   ]
  },
  {
   "cell_type": "code",
   "execution_count": 32,
   "id": "2b9cecbb",
   "metadata": {},
   "outputs": [
    {
     "name": "stdout",
     "output_type": "stream",
     "text": [
      "81\n",
      "captivating\n",
      "way past\n",
      "absolutely magical\n",
      "read\n",
      "book\n",
      "magic\n",
      "['captivating', 'way past', 'absolutely magical', 'read', 'book', 'magic']\n"
     ]
    }
   ],
   "source": [
    "#print(keywords(text1, words=5))\n",
    "print(len(text1.split()))\n",
    "c=int(len(text1.split())/5)\n",
    "a=keywords(text1, words=c)\n",
    "print(a)\n",
    "\n",
    "\n",
    "splitString = a.split(\"\\n\") \n",
    "\n",
    "\n",
    "print(splitString)"
   ]
  },
  {
   "cell_type": "code",
   "execution_count": 33,
   "id": "bbd6fc80",
   "metadata": {},
   "outputs": [
    {
     "data": {
      "text/plain": [
       "['captivating',\n",
       " 'way past',\n",
       " 'absolutely magical',\n",
       " 'read',\n",
       " 'book',\n",
       " 'magic',\n",
       " 'way',\n",
       " 'past',\n",
       " 'absolutely',\n",
       " 'magical']"
      ]
     },
     "execution_count": 33,
     "metadata": {},
     "output_type": "execute_result"
    }
   ],
   "source": [
    "for a in splitString:\n",
    "    if \" \" in a:\n",
    "        b=a.split()\n",
    "        for temp in b:\n",
    "            splitString.append(temp)\n",
    "splitString"
   ]
  },
  {
   "cell_type": "code",
   "execution_count": null,
   "id": "c3f03f46",
   "metadata": {},
   "outputs": [],
   "source": []
  },
  {
   "cell_type": "code",
   "execution_count": 19,
   "id": "2ef2aedd",
   "metadata": {},
   "outputs": [
    {
     "name": "stdout",
     "output_type": "stream",
     "text": [
      "['fantasy', 'currently']\n"
     ]
    }
   ],
   "source": [
    "c=int(len(text2.split())/5)\n",
    "a2=keywords(text2, words=c)\n",
    "\n",
    "\n",
    "splitString2 = a2.split(\"\\n\")\n",
    "\n",
    "print(splitString2)"
   ]
  },
  {
   "cell_type": "code",
   "execution_count": 20,
   "id": "ed4af5a0",
   "metadata": {},
   "outputs": [
    {
     "data": {
      "text/plain": [
       "['fantasy', 'currently']"
      ]
     },
     "execution_count": 20,
     "metadata": {},
     "output_type": "execute_result"
    }
   ],
   "source": [
    "for a in splitString2:\n",
    "    if \" \" in a:\n",
    "        b=a.split()\n",
    "        for temp in b:\n",
    "            splitString2.append(temp)\n",
    "splitString2"
   ]
  },
  {
   "cell_type": "code",
   "execution_count": 21,
   "id": "ace6e93c",
   "metadata": {},
   "outputs": [
    {
     "name": "stdout",
     "output_type": "stream",
     "text": [
      "9\n",
      "['reading books', 'looks good', 'hidden', 'feel like', 'treasures', 'popular', 'read']\n"
     ]
    }
   ],
   "source": [
    "c=int(len(text3.split())/5)\n",
    "a3=keywords(text3, words=c)\n",
    "print(c)\n",
    "splitString3 = a3.split(\"\\n\")\n",
    "\n",
    "print(splitString3)"
   ]
  },
  {
   "cell_type": "code",
   "execution_count": 22,
   "id": "981d1bc0",
   "metadata": {},
   "outputs": [
    {
     "data": {
      "text/plain": [
       "['reading books',\n",
       " 'looks good',\n",
       " 'hidden',\n",
       " 'feel like',\n",
       " 'treasures',\n",
       " 'popular',\n",
       " 'read',\n",
       " 'reading',\n",
       " 'books',\n",
       " 'looks',\n",
       " 'good',\n",
       " 'feel',\n",
       " 'like']"
      ]
     },
     "execution_count": 22,
     "metadata": {},
     "output_type": "execute_result"
    }
   ],
   "source": [
    "for a in splitString3:\n",
    "    if \" \" in a:\n",
    "        b=a.split()\n",
    "        for temp in b:\n",
    "            splitString3.append(temp)\n",
    "splitString3"
   ]
  },
  {
   "cell_type": "code",
   "execution_count": 185,
   "id": "a3e53ad7",
   "metadata": {},
   "outputs": [
    {
     "name": "stdout",
     "output_type": "stream",
     "text": [
      "24\n",
      "['thriller', 'key words', 'following', 'stalking', 'stalks', 'maybe bought', 'city', 'bloody like', 'met', 'wont leave', 'station', 'dont know', 'train', 'animals head', 'believe', 'maybeabout']\n"
     ]
    }
   ],
   "source": [
    "c=int(len(text4.split())/5)\n",
    "print(c)\n",
    "a4=keywords(text4, words=c)\n",
    "splitString4 = a4.split(\"\\n\")\n",
    "\n",
    "print(splitString4)"
   ]
  },
  {
   "cell_type": "code",
   "execution_count": 186,
   "id": "9ca6094c",
   "metadata": {},
   "outputs": [
    {
     "data": {
      "text/plain": [
       "['thriller',\n",
       " 'key words',\n",
       " 'following',\n",
       " 'stalking',\n",
       " 'stalks',\n",
       " 'maybe bought',\n",
       " 'city',\n",
       " 'bloody like',\n",
       " 'met',\n",
       " 'wont leave',\n",
       " 'station',\n",
       " 'dont know',\n",
       " 'train',\n",
       " 'animals head',\n",
       " 'believe',\n",
       " 'maybeabout',\n",
       " 'key',\n",
       " 'words',\n",
       " 'maybe',\n",
       " 'bought',\n",
       " 'bloody',\n",
       " 'like',\n",
       " 'wont',\n",
       " 'leave',\n",
       " 'dont',\n",
       " 'know',\n",
       " 'animals',\n",
       " 'head']"
      ]
     },
     "execution_count": 186,
     "metadata": {},
     "output_type": "execute_result"
    }
   ],
   "source": [
    "for a in splitString4:\n",
    "    if \" \" in a:\n",
    "        b=a.split()\n",
    "        for temp in b:\n",
    "            splitString4.append(temp)\n",
    "splitString4"
   ]
  },
  {
   "cell_type": "code",
   "execution_count": null,
   "id": "300bfd9e",
   "metadata": {},
   "outputs": [],
   "source": []
  },
  {
   "cell_type": "code",
   "execution_count": 187,
   "id": "0ac3962f",
   "metadata": {},
   "outputs": [
    {
     "name": "stdout",
     "output_type": "stream",
     "text": [
      "captivating\n",
      "This \n",
      "\n",
      "\n",
      "\n",
      "\n",
      "\n",
      "\n",
      "way past\n",
      "This \n",
      "\n",
      "\n",
      "\n",
      "\n",
      "\n",
      "\n",
      "absolutely magical\n",
      "This \n",
      "\n",
      "\n",
      "\n",
      "\n",
      "\n",
      "\n",
      "read\n",
      "This \n",
      "\n",
      "\n",
      "\n",
      "\n",
      "Found\n",
      "\n",
      "\n",
      "book\n",
      "This \n",
      "\n",
      "\n",
      "\n",
      "\n",
      "\n",
      "\n",
      "magic\n",
      "This \n",
      "\n",
      "\n",
      "\n",
      "\n",
      "\n",
      "\n",
      "way\n",
      "This \n",
      "\n",
      "\n",
      "\n",
      "\n",
      "\n",
      "\n",
      "past\n",
      "This \n",
      "\n",
      "\n",
      "\n",
      "\n",
      "\n",
      "\n",
      "absolutely\n",
      "This \n",
      "\n",
      "\n",
      "\n",
      "\n",
      "\n",
      "\n",
      "magical\n",
      "This \n",
      "\n",
      "\n",
      "\n",
      "\n",
      "\n",
      "\n",
      "[['reading books', 'looks good', 'feel like', 'hidden', 'treasures', 'read', 'popular', 'reading', 'books', 'looks', 'good', 'feel', 'like']]\n"
     ]
    }
   ],
   "source": [
    "result=[]\n",
    "temp=[splitString2,splitString3,splitString4]\n",
    "for x in splitString:\n",
    "    print(x)\n",
    "    print(\"This \")\n",
    "    for y in temp:\n",
    "        print(\"\\n\")\n",
    "        if x in y:\n",
    "            print(\"Found\")\n",
    "            result.append(y)\n",
    "\n",
    "            \n",
    "\n",
    "print(result)"
   ]
  },
  {
   "cell_type": "code",
   "execution_count": 195,
   "id": "72bfe08e",
   "metadata": {},
   "outputs": [
    {
     "name": "stdout",
     "output_type": "stream",
     "text": [
      "Union: \n",
      "12\n",
      "Intersection: \n",
      "1\n",
      "0.08333333333333333\n"
     ]
    }
   ],
   "source": [
    "print(\"Union: \")\n",
    "ul=len(set(splitString)|set(splitString2))\n",
    "print(ul)\n",
    "print(\"Intersection: \")\n",
    "il=len(set(splitString)&set(splitString3))\n",
    "print(il)\n",
    "s=il/ul\n",
    "print(s)"
   ]
  },
  {
   "cell_type": "code",
   "execution_count": 189,
   "id": "347001ef",
   "metadata": {},
   "outputs": [
    {
     "name": "stdout",
     "output_type": "stream",
     "text": [
      "{2, 3}\n"
     ]
    }
   ],
   "source": [
    "a={1,2,3}\n",
    "b={2,3,4}\n",
    "print(a&b)"
   ]
  },
  {
   "cell_type": "code",
   "execution_count": 190,
   "id": "478f4bc9",
   "metadata": {},
   "outputs": [
    {
     "name": "stdout",
     "output_type": "stream",
     "text": [
      "\n"
     ]
    }
   ],
   "source": [
    "print()"
   ]
  },
  {
   "cell_type": "code",
   "execution_count": null,
   "id": "445a26ba",
   "metadata": {},
   "outputs": [],
   "source": []
  },
  {
   "cell_type": "code",
   "execution_count": null,
   "id": "c53fd773",
   "metadata": {},
   "outputs": [],
   "source": []
  }
 ],
 "metadata": {
  "kernelspec": {
   "display_name": "Python 3",
   "language": "python",
   "name": "python3"
  },
  "language_info": {
   "codemirror_mode": {
    "name": "ipython",
    "version": 3
   },
   "file_extension": ".py",
   "mimetype": "text/x-python",
   "name": "python",
   "nbconvert_exporter": "python",
   "pygments_lexer": "ipython3",
   "version": "3.8.0"
  }
 },
 "nbformat": 4,
 "nbformat_minor": 5
}
